{
 "cells": [
  {
   "cell_type": "code",
   "execution_count": 12,
   "metadata": {},
   "outputs": [],
   "source": [
    "from sentence_transformers import SentenceTransformer\n",
    "import pandas as pd\n",
    "from tqdm import tqdm\n",
    "df = pd.read_csv(r\"C:\\Users\\yucheng_chih\\Desktop\\test-common_qa.csv\")\n",
    "question = df['question'].tolist()\n",
    "paragraph = df['paragraph'].tolist()\n",
    "model = SentenceTransformer(r'C:\\Users\\yucheng_chih\\Desktop\\FlagEmbedding-master\\LLM')"
   ]
  },
  {
   "cell_type": "code",
   "execution_count": 13,
   "metadata": {},
   "outputs": [
    {
     "name": "stderr",
     "output_type": "stream",
     "text": [
      "transforming the sentence to vector...:  85%|████████▌ | 1977/2318 [35:45<05:28,  1.04it/s] "
     ]
    }
   ],
   "source": [
    "question_vec = []\n",
    "paragraph_vec = []\n",
    "total_step = len(question)\n",
    "for q,p in tqdm(zip(question,paragraph),total=total_step,desc=\"transforming the sentence to vector...\"):\n",
    "    question_vec.append(model.encode(q))\n",
    "    paragraph_vec.append(model.encode(p))\n",
    "\n",
    "\n",
    "    "
   ]
  },
  {
   "cell_type": "code",
   "execution_count": null,
   "metadata": {},
   "outputs": [],
   "source": [
    "import torch \n",
    "import numpy as np \n",
    "question_vec = np.array(question_vec)\n",
    "paragraph_vec =np.array(paragraph_vec)\n",
    "np.savez(r\"C:\\Users\\yucheng_chih\\Desktop\\question_vec-paragraph-by_bge.npz\",question_vec=question_vec,paragraph_vec=paragraph_vec)"
   ]
  }
 ],
 "metadata": {
  "kernelspec": {
   "display_name": "Python 3",
   "language": "python",
   "name": "python3"
  },
  "language_info": {
   "codemirror_mode": {
    "name": "ipython",
    "version": 3
   },
   "file_extension": ".py",
   "mimetype": "text/x-python",
   "name": "python",
   "nbconvert_exporter": "python",
   "pygments_lexer": "ipython3",
   "version": "3.12.0"
  }
 },
 "nbformat": 4,
 "nbformat_minor": 2
}
