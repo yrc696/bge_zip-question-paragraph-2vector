{
 "cells": [
  {
   "cell_type": "code",
   "execution_count": null,
   "metadata": {},
   "outputs": [],
   "source": [
    "import numpy as np\n",
    "\n",
    "load_npz = np.load(r\"C:\\Users\\yucheng_chih\\Desktop\\question_vec-paragraph-by_bge.npz\")\n",
    "question_vec = load_npz['question_vec']\n",
    "paragraph_vec = load_npz['paragraph_vec']\n",
    "print(question_vec[0],\"\\n\",paragraph_vec[0])"
   ]
  }
 ],
 "metadata": {
  "language_info": {
   "name": "python"
  }
 },
 "nbformat": 4,
 "nbformat_minor": 2
}
